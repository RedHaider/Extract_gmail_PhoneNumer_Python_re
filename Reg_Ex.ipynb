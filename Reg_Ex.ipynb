{
  "nbformat": 4,
  "nbformat_minor": 0,
  "metadata": {
    "colab": {
      "provenance": [],
      "authorship_tag": "ABX9TyPGFtN1yQCS2qONeibBuqxV",
      "include_colab_link": true
    },
    "kernelspec": {
      "name": "python3",
      "display_name": "Python 3"
    },
    "language_info": {
      "name": "python"
    }
  },
  "cells": [
    {
      "cell_type": "markdown",
      "metadata": {
        "id": "view-in-github",
        "colab_type": "text"
      },
      "source": [
        "<a href=\"https://colab.research.google.com/github/RedHaider/Extract_gmail_PhoneNumer_Python_re/blob/main/Reg_Ex.ipynb\" target=\"_parent\"><img src=\"https://colab.research.google.com/assets/colab-badge.svg\" alt=\"Open In Colab\"/></a>"
      ]
    },
    {
      "cell_type": "markdown",
      "source": [
        "Find the gmail and extract from gmail ids from it with python"
      ],
      "metadata": {
        "id": "v5DBctb-kBsm"
      }
    },
    {
      "cell_type": "code",
      "execution_count": 22,
      "metadata": {
        "id": "jBhTkmn4j8u6"
      },
      "outputs": [],
      "source": [
        "import re\n",
        "\n",
        "\n",
        "text = \"Hello, my email address is john.doe@gmail.com and my colleague's email is jane.smith@gmail.com. We both work for a company based in Dhaka, Bangladesh, and our office phone number is +880-2-1234567. However, if you need to contact us outside of work hours, you can reach us on our mobile phones. My Bangladeshi mobile number is +8801712345678, and Jane's number is +8801812345678. Please note that these numbers are only for urgent matters, and we prefer to be contacted via email during normal business hours. Thank you.\"\n",
        "\n",
        "# Find all Gmail IDs in the text using a regular expression\n",
        "gmail_ids = re.findall(r'\\b[A-Za-z0-9._%+-]+@gmail\\.com\\b', text)\n",
        "\n",
        "# Write the Gmail IDs to a separate file\n",
        "with open('gmail_id.txt', 'w') as file:\n",
        "    file.write('\\n'.join(gmail_ids))\n",
        "\n",
        "# Find all Bangladeshi mobile numbers in the text using a regular expression\n",
        "bd_mobiles = re.findall(r'\\+880\\d{10}\\b', text)\n",
        "\n",
        "# Write the Bangladeshi mobile numbers to a separate file\n",
        "with open('bd_mobile.txt', 'w') as file:\n",
        "    for mobile in bd_mobiles:\n",
        "        if len(mobile) == 14:\n",
        "            file.write(mobile + '\\n')\n"
      ]
    }
  ]
}